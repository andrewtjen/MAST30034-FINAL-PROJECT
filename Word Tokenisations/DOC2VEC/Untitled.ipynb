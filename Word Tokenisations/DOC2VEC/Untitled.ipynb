{
 "cells": [
  {
   "cell_type": "markdown",
   "metadata": {},
   "source": [
    "## Doc2vec, Word2vec\n",
    "\n",
    "### Useful resources\n",
    "#### word2vec\n",
    "https://thinkinfi.com/simple-doc2vec-explained/\n",
    "https://thinkinfi.com/continuous-bag-of-words-cbow-multi-word-model-how-it-works/\n",
    "https://www.youtube.com/watch?v=LSS_bos_TPI\n",
    "https://gist.github.com/aparrish/2f562e3737544cf29aaf1af30362f469\n",
    "https://www.youtube.com/watch?v=yFFp9RYpOb0\n",
    "\n",
    "should do lots of cleaning task like stop word removal, replacing digits, remove punctuation etc.\n",
    "\n",
    "#### doc2vec\n",
    "We will use doc2vec"
   ]
  },
  {
   "cell_type": "code",
   "execution_count": 1,
   "metadata": {},
   "outputs": [],
   "source": [
    "from gensim.test.utils import common_texts\n",
    "from gensim.models.doc2vec import Doc2Vec, TaggedDocument"
   ]
  },
  {
   "cell_type": "code",
   "execution_count": null,
   "metadata": {},
   "outputs": [],
   "source": []
  }
 ],
 "metadata": {
  "kernelspec": {
   "display_name": "Python 3",
   "language": "python",
   "name": "python3"
  },
  "language_info": {
   "codemirror_mode": {
    "name": "ipython",
    "version": 3
   },
   "file_extension": ".py",
   "mimetype": "text/x-python",
   "name": "python",
   "nbconvert_exporter": "python",
   "pygments_lexer": "ipython3",
   "version": "3.8.3"
  }
 },
 "nbformat": 4,
 "nbformat_minor": 4
}
