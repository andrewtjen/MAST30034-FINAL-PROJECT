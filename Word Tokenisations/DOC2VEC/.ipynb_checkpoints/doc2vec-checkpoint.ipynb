{
 "cells": [
  {
   "cell_type": "markdown",
   "metadata": {},
   "source": [
    "## Doc2vec, Word2vec\n",
    "\n",
    "### Useful resources\n",
    "#### word2vec\n",
    "https://thinkinfi.com/simple-doc2vec-explained/\n",
    "https://thinkinfi.com/continuous-bag-of-words-cbow-multi-word-model-how-it-works/\n",
    "https://www.youtube.com/watch?v=LSS_bos_TPI\n",
    "https://gist.github.com/aparrish/2f562e3737544cf29aaf1af30362f469\n",
    "https://www.youtube.com/watch?v=yFFp9RYpOb0\n",
    "\n",
    "should do lots of cleaning task like stop word removal, replacing digits, remove punctuation etc.\n",
    "\n",
    "#### doc2vec\n",
    "We will use doc2vec"
   ]
  },
  {
   "cell_type": "code",
   "execution_count": 1,
   "metadata": {},
   "outputs": [
    {
     "data": {
      "text/plain": [
       "1        Dear local newspaper, I think effects computer...\n",
       "2        Dear @CAPS1 @CAPS2, I believe that using compu...\n",
       "3        Dear, @CAPS1 @CAPS2 @CAPS3 More and more peopl...\n",
       "4        Dear Local Newspaper, @CAPS1 I have found that...\n",
       "5        Dear @LOCATION1, I know having computers has a...\n",
       "                               ...                        \n",
       "21626     In most stories mothers and daughters are eit...\n",
       "21628     I never understood the meaning laughter is th...\n",
       "21629    When you laugh, is @CAPS5 out of habit, or is ...\n",
       "21630                                   Trippin' on fen...\n",
       "21633     Many people believe that laughter can improve...\n",
       "Name: essay, Length: 12976, dtype: object"
      ]
     },
     "execution_count": 1,
     "metadata": {},
     "output_type": "execute_result"
    }
   ],
   "source": [
    "import numpy as np\n",
    "import pandas as pd\n",
    "\n",
    "essay_set = pd.read_csv(r\"../../dataset/training_set_rel3.tsv\", delimiter = '\\t', header=0, encoding='latin1')\n",
    "train_corpus = essay_set['essay']\n",
    "test_corpus = train_corpus.copy()\n",
    "train_corpus\n"
   ]
  },
  {
   "cell_type": "code",
   "execution_count": 2,
   "metadata": {},
   "outputs": [],
   "source": [
    "from gensim.parsing.preprocessing import remove_stopwords\n",
    "from sklearn.feature_extraction.text import CountVectorizer\n",
    "\n",
    "# punctuation should be ignored and stop words\n",
    "# preprocess text and compute counts\n",
    "vocab = CountVectorizer(stop_words='english', lowercase= True).fit(train_corpus)\n",
    "\n",
    "# generate counts for a new set of documents\n",
    "doc_emb = vocab.transform(train_corpus)"
   ]
  },
  {
   "cell_type": "code",
   "execution_count": 6,
   "metadata": {},
   "outputs": [],
   "source": [
    "#doc2vec tuning\n",
    "vec_size = 100\n",
    "window=2\n",
    "min_count=1\n",
    "workers=8\n",
    "epochs=40"
   ]
  },
  {
   "cell_type": "code",
   "execution_count": 7,
   "metadata": {},
   "outputs": [],
   "source": [
    "import gensim\n",
    "from gensim.test.utils import common_texts\n",
    "from gensim.models.doc2vec import Doc2Vec, TaggedDocument\n",
    "\n",
    "\n",
    "essays = [TaggedDocument(gensim.utils.simple_preprocess(doc), [i]) for i, doc in enumerate(train_corpus)]\n",
    "\n",
    "model = Doc2Vec(essays, vector_size=vec_size, window=window, min_count=min_count, workers=workers, epochs=epochs)\n",
    "#might not need this line\n",
    "model.train(essays, total_examples=model.corpus_count, epochs=model.epochs)"
   ]
  },
  {
   "cell_type": "code",
   "execution_count": 8,
   "metadata": {},
   "outputs": [],
   "source": [
    "doc = [gensim.utils.simple_preprocess(doc) for i, doc in enumerate(test_corpus)]\n",
    "\n",
    "doc_emb = np.zeros((len(doc), vec_size))\n",
    "for i in range(len(doc)):\n",
    "    doc_emb[i,:] = model.infer_vector(doc[i])"
   ]
  },
  {
   "cell_type": "code",
   "execution_count": 10,
   "metadata": {},
   "outputs": [],
   "source": [
    "sims = model.docvecs.most_similar([doc_emb[8094]]) #gives you top 10 document tags and their cosine similarity"
   ]
  },
  {
   "cell_type": "code",
   "execution_count": 7,
   "metadata": {},
   "outputs": [],
   "source": [
    "# deltees training data\n",
    "#model.delete_temporary_training_data(keep_doctags_vectors=True, keep_inference=True)"
   ]
  },
  {
   "cell_type": "code",
   "execution_count": null,
   "metadata": {},
   "outputs": [],
   "source": []
  },
  {
   "cell_type": "code",
   "execution_count": null,
   "metadata": {},
   "outputs": [],
   "source": []
  },
  {
   "cell_type": "code",
   "execution_count": null,
   "metadata": {},
   "outputs": [],
   "source": []
  }
 ],
 "metadata": {
  "kernelspec": {
   "display_name": "Python 3",
   "language": "python",
   "name": "python3"
  },
  "language_info": {
   "codemirror_mode": {
    "name": "ipython",
    "version": 3
   },
   "file_extension": ".py",
   "mimetype": "text/x-python",
   "name": "python",
   "nbconvert_exporter": "python",
   "pygments_lexer": "ipython3",
   "version": "3.7.6"
  }
 },
 "nbformat": 4,
 "nbformat_minor": 4
}
