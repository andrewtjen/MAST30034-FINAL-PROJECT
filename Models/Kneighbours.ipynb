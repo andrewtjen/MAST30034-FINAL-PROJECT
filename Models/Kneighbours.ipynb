{
 "cells": [
  {
   "cell_type": "markdown",
   "metadata": {},
   "source": [
    "## K Nearest Neighbours\n",
    "\n",
    "#### Things to do: \n",
    "fit doc2vec and bert tokenisations\n",
    "maybe add different distance criterion"
   ]
  },
  {
   "cell_type": "markdown",
   "metadata": {},
   "source": [
    "#### A bit of information on KNN (double check this)\n",
    "KNN is pretty simple and has few hyper paramaters to tune. Unlike naiive bayes, once trained we must store and predict new values using all the training data. As an advantage there is no training time and it can always evolve when we gain new training data, but it can take a long time to make prediction. \n",
    "KNN assumes all the data are in a \"metric space\" as it needs to be able to compute distances between the points.\n",
    "Downfalls include the fact it cant deal with missing data, if the data is of different scales it can ruin predicitve capabilities and is sensitive to outliers."
   ]
  },
  {
   "cell_type": "code",
   "execution_count": null,
   "metadata": {},
   "outputs": [],
   "source": [
    "from sklearn.neighbors import KNeighborsClassifier"
   ]
  },
  {
   "cell_type": "code",
   "execution_count": null,
   "metadata": {},
   "outputs": [],
   "source": [
    "scores = []\n",
    "\n",
    "# Does a grid search for optimal number of neighbours and weights hyper paramater\n",
    "for i in range(2, 9):\n",
    "    for j in [\"uniform\", \"distance\"]:\n",
    "        knn_model = KNeighborsClassifier(n_neighbors=i, n_jobs = 2, weights=j)\n",
    "        scores.append(((i, j), cross_validate(knn_model, X, y, cv=5))) #scoring=[\"neg_mean_absolute_error\", \"neg_mean_squared_error\",\"neg_root_mean_squared_error\",\"r2\"]"
   ]
  }
 ],
 "metadata": {
  "kernelspec": {
   "display_name": "Python 3",
   "language": "python",
   "name": "python3"
  },
  "language_info": {
   "codemirror_mode": {
    "name": "ipython",
    "version": 3
   },
   "file_extension": ".py",
   "mimetype": "text/x-python",
   "name": "python",
   "nbconvert_exporter": "python",
   "pygments_lexer": "ipython3",
   "version": "3.7.6"
  }
 },
 "nbformat": 4,
 "nbformat_minor": 4
}
