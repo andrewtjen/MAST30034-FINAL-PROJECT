{
 "cells": [
  {
   "cell_type": "code",
   "execution_count": 6,
   "metadata": {},
   "outputs": [],
   "source": [
    "from sklearn.svm import SVR\n",
    "from sklearn.model_selection import KFold\n",
    "from sklearn.pipeline import make_pipeline\n",
    "from sklearn.preprocessing import StandardScaler\n",
    "from sklearn.metrics import cohen_kappa_score, mean_squared_error, r2_score\n",
    "import statistics\n",
    "from keras.layers import Embedding, LSTM, Dense, Dropout, Lambda, Flatten\n",
    "from keras.models import Sequential, load_model, model_from_config\n",
    "import keras.backend as K\n",
    "\n",
    "import numpy as np\n",
    "import pandas as pd"
   ]
  },
  {
   "cell_type": "code",
   "execution_count": 53,
   "metadata": {},
   "outputs": [
    {
     "name": "stdout",
     "output_type": "stream",
     "text": [
      "              0         1         2         3         4         5         6  \\\n",
      "0     -0.653643  1.226314  1.490607 -0.273509 -0.126667  1.948407 -0.800371   \n",
      "1      1.788302 -0.599212 -2.108530  0.105541 -0.419768  0.424503  0.306117   \n",
      "2     -0.024527  0.521169 -0.856823 -0.467126 -0.856623  0.542416 -1.578355   \n",
      "3      2.232087  0.245010 -0.081397  2.165611 -1.296768  0.386925 -1.609302   \n",
      "4     -0.532192 -0.046631 -1.994325  0.103210 -1.187608  0.603498  0.119099   \n",
      "...         ...       ...       ...       ...       ...       ...       ...   \n",
      "12971  1.006991 -0.286482  1.342189 -0.003134  0.760130 -0.679358 -1.243566   \n",
      "12972  0.111378  0.336479  0.752918 -0.181376  0.736306 -1.199180 -0.596781   \n",
      "12973  1.191366  0.973212 -0.547442 -1.165032 -1.202222 -1.381345 -0.519082   \n",
      "12974  0.418220  1.790897  0.547983 -1.530168  0.991451  0.504360 -1.435510   \n",
      "12975 -0.080305  1.266496  0.187342 -0.565856  0.896607  0.895382 -0.369216   \n",
      "\n",
      "              7         8         9  ...        44        45        46  \\\n",
      "0     -0.520892 -1.989100  0.305569  ...  1.436761  1.510649 -0.300369   \n",
      "1     -1.297395 -0.365960 -0.193469  ... -1.120824  0.798896 -0.735984   \n",
      "2     -0.025513 -1.748438 -0.108801  ... -0.789562  0.019656 -1.198619   \n",
      "3      0.097405 -2.632485  0.009429  ... -0.900712  1.323254 -1.008070   \n",
      "4      0.494659 -0.015966  1.025912  ...  0.127415 -0.186732 -2.030141   \n",
      "...         ...       ...       ...  ...       ...       ...       ...   \n",
      "12971 -0.156809  1.163272 -1.711910  ... -2.521845  0.198597 -1.210711   \n",
      "12972  0.081903  1.599795 -1.825120  ... -1.397109 -0.146917 -0.823803   \n",
      "12973  0.096320  1.170734 -1.533326  ... -0.470334  1.635539 -0.179623   \n",
      "12974  0.267682  1.185116 -3.378766  ... -0.381958  0.959194 -0.819179   \n",
      "12975 -0.951170  0.188917 -1.730462  ... -0.579422 -0.292312 -0.826557   \n",
      "\n",
      "             47        48        49  essay_set  word_count  Mistakes  \\\n",
      "0     -0.430754 -1.164265  0.293608          1         338      20.0   \n",
      "1     -1.692172 -0.989390  1.180730          1         419      33.0   \n",
      "2      1.141882 -0.438716 -0.378533          1         279      20.0   \n",
      "3     -2.154635  1.147291  1.223645          1         524      68.0   \n",
      "4     -2.104558  0.112237 -0.022088          1         465      23.0   \n",
      "...         ...       ...       ...        ...         ...       ...   \n",
      "12971 -0.993132 -1.072428 -1.705613          8         848      78.0   \n",
      "12972  0.434071 -2.503375 -2.843532          8         548      76.0   \n",
      "12973 -1.475194 -2.132613 -1.912848          8         818      82.0   \n",
      "12974 -1.751871 -0.834763 -0.696288          8         594      33.0   \n",
      "12975 -1.263517 -1.192376 -1.866500          8         468      11.0   \n",
      "\n",
      "       reading_ease  \n",
      "0             74.02  \n",
      "1             67.08  \n",
      "2             68.20  \n",
      "3             53.34  \n",
      "4             72.66  \n",
      "...             ...  \n",
      "12971         64.51  \n",
      "12972         50.00  \n",
      "12973         69.25  \n",
      "12974         72.05  \n",
      "12975         72.05  \n",
      "\n",
      "[12976 rows x 54 columns]\n"
     ]
    }
   ],
   "source": [
    "df = pd.read_csv(\"../df.csv\")\n",
    "doc2vec50 = pd.read_csv(\"../dataset/doc2vec_50.csv\")\n",
    "df_train= df[[\"essay_set\", \"essay\",\"total_score\", \"word_count\",\"Mistakes\",\"reading_ease\"]]\n",
    "df_train = doc2vec50\n",
    "df_train = pd.concat([df_train, df[[\"essay_set\", \"word_count\",\"Mistakes\",\"reading_ease\"]]], axis = 1, join = \"inner\")\n",
    "y = df[\"total_score\"]\n",
    "X = df_train.drop(['Unnamed: 0'], axis = 1)\n"
   ]
  },
  {
   "cell_type": "code",
   "execution_count": 54,
   "metadata": {},
   "outputs": [],
   "source": [
    "def get_model(x_train_shape):\n",
    "    \"\"\"Define the model.\"\"\"\n",
    "    model = Sequential()\n",
    "    model.add(LSTM(50, dropout=0.2, recurrent_dropout=0.4, input_shape=(1, 54) , return_sequences=True))\n",
    "    model.add(LSTM(50, recurrent_dropout=0.4,  return_sequences = True))\n",
    "    model.add(Dropout(0.2))\n",
    "    model.add(Dense(1, activation='relu'))\n",
    "\n",
    "    model.compile(loss='mean_squared_error', optimizer='rmsprop', metrics=['mae'])\n",
    "    model.summary()\n",
    "\n",
    "    return model"
   ]
  },
  {
   "cell_type": "code",
   "execution_count": 59,
   "metadata": {},
   "outputs": [
    {
     "name": "stdout",
     "output_type": "stream",
     "text": [
      "\n",
      "--------Fold 1--------\n",
      "\n",
      "Model: \"sequential_23\"\n",
      "_________________________________________________________________\n",
      "Layer (type)                 Output Shape              Param #   \n",
      "=================================================================\n",
      "lstm_43 (LSTM)               (None, 1, 50)             21000     \n",
      "_________________________________________________________________\n",
      "lstm_44 (LSTM)               (None, 1, 50)             20200     \n",
      "_________________________________________________________________\n",
      "dropout_20 (Dropout)         (None, 1, 50)             0         \n",
      "_________________________________________________________________\n",
      "dense_20 (Dense)             (None, 1, 1)              51        \n",
      "=================================================================\n",
      "Total params: 41,251\n",
      "Trainable params: 41,251\n",
      "Non-trainable params: 0\n",
      "_________________________________________________________________\n",
      "Epoch 1/2\n",
      "260/260 [==============================] - 2s 8ms/step - loss: 4.4513 - mae: 1.4165 - val_loss: 437.1030 - val_mae: 17.5144\n",
      "Epoch 2/2\n",
      "260/260 [==============================] - 1s 4ms/step - loss: 1.1520 - mae: 0.8008 - val_loss: 413.8574 - val_mae: 17.1263\n"
     ]
    },
    {
     "ename": "NameError",
     "evalue": "name 'y_pred_temp' is not defined",
     "output_type": "error",
     "traceback": [
      "\u001b[1;31m---------------------------------------------------------------------------\u001b[0m",
      "\u001b[1;31mNameError\u001b[0m                                 Traceback (most recent call last)",
      "\u001b[1;32m<ipython-input-59-78ccfc8fb1a0>\u001b[0m in \u001b[0;36m<module>\u001b[1;34m\u001b[0m\n\u001b[0;32m     27\u001b[0m     \u001b[0my_pred\u001b[0m \u001b[1;33m=\u001b[0m \u001b[0mnp\u001b[0m\u001b[1;33m.\u001b[0m\u001b[0maround\u001b[0m\u001b[1;33m(\u001b[0m\u001b[0my_pred\u001b[0m\u001b[1;33m)\u001b[0m\u001b[1;33m\u001b[0m\u001b[1;33m\u001b[0m\u001b[0m\n\u001b[0;32m     28\u001b[0m \u001b[1;33m\u001b[0m\u001b[0m\n\u001b[1;32m---> 29\u001b[1;33m     \u001b[1;32mfor\u001b[0m \u001b[0mi\u001b[0m \u001b[1;32min\u001b[0m \u001b[0my_pred_temp\u001b[0m\u001b[1;33m:\u001b[0m\u001b[1;33m\u001b[0m\u001b[1;33m\u001b[0m\u001b[0m\n\u001b[0m\u001b[0;32m     30\u001b[0m         \u001b[0my_pred\u001b[0m\u001b[1;33m.\u001b[0m\u001b[0mappend\u001b[0m\u001b[1;33m(\u001b[0m\u001b[0mint\u001b[0m\u001b[1;33m(\u001b[0m\u001b[0mround\u001b[0m\u001b[1;33m(\u001b[0m\u001b[0mi\u001b[0m\u001b[1;33m)\u001b[0m\u001b[1;33m)\u001b[0m\u001b[1;33m)\u001b[0m\u001b[1;33m\u001b[0m\u001b[1;33m\u001b[0m\u001b[0m\n\u001b[0;32m     31\u001b[0m     \u001b[0my_test_new\u001b[0m \u001b[1;33m=\u001b[0m \u001b[1;33m[\u001b[0m\u001b[1;33m]\u001b[0m\u001b[1;33m\u001b[0m\u001b[1;33m\u001b[0m\u001b[0m\n",
      "\u001b[1;31mNameError\u001b[0m: name 'y_pred_temp' is not defined"
     ]
    }
   ],
   "source": [
    "cv = KFold(n_splits = 5, shuffle = True)\n",
    "results = []\n",
    "r2s = []\n",
    "mses = []\n",
    "y_pred_list = []\n",
    "count = 1\n",
    "for traincv, testcv in cv.split(X):\n",
    "    print(\"\\n--------Fold {}--------\\n\".format(count))\n",
    "    \n",
    "    X_test, X_train, y_test, y_train = X.iloc[testcv], X.iloc[traincv], y.iloc[testcv], y.iloc[traincv]\n",
    "    X_train = np.array(X_train)\n",
    "    X_test = np.array(X_test)\n",
    "    X_train = np.reshape(X_train, (X_train.shape[0], 1, X_train.shape[1]))\n",
    "    X_test = np.reshape(X_test, (X_test.shape[0], 1, X_test.shape[1]))\n",
    "    lstm_model = get_model(X_train.shape)\n",
    "    lstm_model.fit(X_train, y_train, validation_split=0.2, epochs=2, batch_size=32)\n",
    "    #lstm_model.load_weights('./model_weights/final_lstm.h5')\n",
    "    \n",
    "    \n",
    "    y_pred = lstm_model.predict(X_test)\n",
    "    \n",
    "    # Save any one of the 5 models.\n",
    "    if count == 5:\n",
    "         lstm_model.save_weights('final_lstm.h5')\n",
    "    \n",
    "    # Round y_pred to the nearest integer.\n",
    "    y_pred = np.around(y_pred)\n",
    "    \n",
    "    for i in y_pred_temp:\n",
    "        y_pred.append(int(round(i)))\n",
    "    y_test_new = []\n",
    "    for  i in list(y_test.array):\n",
    "        y_test_new.append(int(i))\n",
    "    # Evaluate the model on the evaluation metric. \"Quadratic mean averaged Kappa\"\n",
    "    result = cohen_kappa_score(y_test.values,y_pred,weights='quadratic')\n",
    "    print(\"Kappa Score: {}\".format(result))\n",
    "    results.append(result)\n",
    "\n",
    "    count += 1"
   ]
  },
  {
   "cell_type": "code",
   "execution_count": 58,
   "metadata": {},
   "outputs": [
    {
     "name": "stdout",
     "output_type": "stream",
     "text": [
      "[[-6.53643310e-01  1.22631383e+00  1.49060738e+00 ...  3.38000000e+02\n",
      "   2.00000000e+01  7.40200000e+01]\n",
      " [ 1.78830183e+00 -5.99211633e-01 -2.10853004e+00 ...  4.19000000e+02\n",
      "   3.30000000e+01  6.70800000e+01]\n",
      " [-2.45267693e-02  5.21169484e-01 -8.56822908e-01 ...  2.79000000e+02\n",
      "   2.00000000e+01  6.82000000e+01]\n",
      " ...\n",
      " [ 1.19136560e+00  9.73212183e-01 -5.47442257e-01 ...  8.18000000e+02\n",
      "   8.20000000e+01  6.92500000e+01]\n",
      " [ 4.18220490e-01  1.79089689e+00  5.47983468e-01 ...  5.94000000e+02\n",
      "   3.30000000e+01  7.20500000e+01]\n",
      " [-8.03048015e-02  1.26649606e+00  1.87341690e-01 ...  4.68000000e+02\n",
      "   1.10000000e+01  7.20500000e+01]]\n"
     ]
    }
   ],
   "source": []
  },
  {
   "cell_type": "code",
   "execution_count": null,
   "metadata": {},
   "outputs": [],
   "source": []
  }
 ],
 "metadata": {
  "kernelspec": {
   "display_name": "Python 3",
   "language": "python",
   "name": "python3"
  },
  "language_info": {
   "codemirror_mode": {
    "name": "ipython",
    "version": 3
   },
   "file_extension": ".py",
   "mimetype": "text/x-python",
   "name": "python",
   "nbconvert_exporter": "python",
   "pygments_lexer": "ipython3",
   "version": "3.8.3"
  }
 },
 "nbformat": 4,
 "nbformat_minor": 4
}
