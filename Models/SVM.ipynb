{
 "cells": [
  {
   "cell_type": "code",
   "execution_count": 31,
   "metadata": {},
   "outputs": [],
   "source": [
    "from sklearn.svm import SVR\n",
    "from sklearn.model_selection import KFold\n",
    "from sklearn.pipeline import make_pipeline\n",
    "from sklearn.preprocessing import StandardScaler\n",
    "from sklearn.metrics import cohen_kappa_score, mean_squared_error, r2_score\n",
    "import statistics\n",
    "\n",
    "import numpy as np\n",
    "import pandas as pd"
   ]
  },
  {
   "cell_type": "code",
   "execution_count": 2,
   "metadata": {},
   "outputs": [],
   "source": [
    "df = pd.read_csv(\"../df.csv\")\n",
    "doc2vec50 = pd.read_csv(\"../dataset/doc2vec_50.csv\")"
   ]
  },
  {
   "cell_type": "code",
   "execution_count": 3,
   "metadata": {},
   "outputs": [],
   "source": [
    "df_train= df[[\"essay_set\", \"essay\",\"total_score\", \"word_count\",\"Mistakes\",\"reading_ease\"]]"
   ]
  },
  {
   "cell_type": "code",
   "execution_count": 4,
   "metadata": {},
   "outputs": [],
   "source": [
    "df_train = doc2vec50\n",
    "df_train = pd.concat([df_train, df[[\"essay_set\", \"word_count\",\"Mistakes\",\"reading_ease\"]]], axis = 1, join = \"inner\")"
   ]
  },
  {
   "cell_type": "code",
   "execution_count": 44,
   "metadata": {},
   "outputs": [],
   "source": [
    "y = df[\"total_score\"]\n",
    "X = df_train.drop(['Unnamed: 0'], axis = 1)\n"
   ]
  },
  {
   "cell_type": "code",
   "execution_count": 6,
   "metadata": {},
   "outputs": [],
   "source": [
    "linearSVR = SVR(kernel='linear', C=100, gamma='auto')"
   ]
  },
  {
   "cell_type": "code",
   "execution_count": 29,
   "metadata": {
    "scrolled": true
   },
   "outputs": [
    {
     "name": "stdout",
     "output_type": "stream",
     "text": [
      "\n",
      "--------Fold 1--------\n",
      "\n",
      "R2 score : 0.60\n",
      "MSE score: 30.53\n",
      "Kappa Score: 0.7957972361837372\n",
      "\n",
      "--------Fold 2--------\n",
      "\n",
      "R2 score : 0.19\n",
      "MSE score: 69.41\n",
      "Kappa Score: 0.742426668654286\n",
      "\n",
      "--------Fold 3--------\n",
      "\n",
      "R2 score : 0.11\n",
      "MSE score: 67.08\n",
      "Kappa Score: 0.5294139965221107\n",
      "\n",
      "--------Fold 4--------\n",
      "\n",
      "R2 score : 0.46\n",
      "MSE score: 44.29\n",
      "Kappa Score: 0.7409576046371393\n",
      "\n",
      "--------Fold 5--------\n",
      "\n",
      "R2 score : 0.52\n",
      "MSE score: 40.29\n",
      "Kappa Score: 0.7527574191418297\n"
     ]
    }
   ],
   "source": [
    "cv = KFold(n_splits = 5, shuffle = True)\n",
    "results = []\n",
    "r2s = []\n",
    "mses = []\n",
    "\n",
    "y_pred_list = []\n",
    "count = 1\n",
    "for traincv, testcv in cv.split(X):\n",
    "    print(\"\\n--------Fold {}--------\\n\".format(count))\n",
    "    X_test, X_train, y_test, y_train = X.iloc[testcv], X.iloc[traincv], y.iloc[testcv], y.iloc[traincv]\n",
    "    linearSVR = SVR(kernel='linear', C=1, gamma='auto')\n",
    "    linearSVR.fit(X_train, y_train)\n",
    "    y_pred_temp = linearSVR.predict(X_test)\n",
    "    y_pred = []\n",
    "    for i in y_pred_temp:\n",
    "        y_pred.append(int(round(i)))\n",
    "    y_test_new = []\n",
    "    for  i in list(y_test.array):\n",
    "        y_test_new.append(int(i))\n",
    "    result = cohen_kappa_score(y_test_new,y_pred,weights='quadratic')\n",
    "    r2 = r2_score(y_test_new,y_pred)\n",
    "    mse = mean_squared_error(y_test_new,y_pred)\n",
    "    print(\"R2 score : %.2f\" % r2)\n",
    "    print(\"MSE score: %.2f\" % mse)\n",
    "    print(\"Kappa Score: {}\".format(result))\n",
    "    results.append(result)\n",
    "    r2s.append(r2)\n",
    "    mses.append(mse)\n",
<<<<<<< HEAD
    "    count += 1\n",
    "    \n",
    "    "
=======
    "    count += 1"
>>>>>>> ebbc9218f6bbd2841e725a526c5c495f98ec35f8
   ]
  },
  {
   "cell_type": "markdown",
   "metadata": {},
   "source": [
    "# RUN UNTIL HERE, DONT RUN BELOW"
   ]
  },
  {
   "cell_type": "markdown",
   "metadata": {},
   "source": [
    "\n",
    "--------Fold 1--------\n",
    "\n",
    "R2 score : 0.60\n",
    "MSE score: 30.53\n",
    "Kappa Score: 0.7957972361837372\n",
    "\n",
    "--------Fold 2--------\n",
    "\n",
    "R2 score : 0.19\n",
    "MSE score: 69.41\n",
    "Kappa Score: 0.742426668654286\n",
    "\n",
    "--------Fold 3--------\n",
    "\n",
    "R2 score : 0.11\n",
    "MSE score: 67.08\n",
    "Kappa Score: 0.5294139965221107\n",
    "\n",
    "--------Fold 4--------\n",
    "\n",
    "R2 score : 0.46\n",
    "MSE score: 44.29\n",
    "Kappa Score: 0.7409576046371393\n",
    "\n",
    "--------Fold 5--------\n",
    "\n",
    "R2 score : 0.52\n",
    "MSE score: 40.29\n",
    "Kappa Score: 0.752757419141829"
   ]
  },
  {
   "cell_type": "code",
   "execution_count": 34,
   "metadata": {},
   "outputs": [
    {
     "name": "stdout",
     "output_type": "stream",
     "text": [
      "5 fold cross validation, linear svm C = 1.0, doc2vec 50, averager results\n",
      "Average Quadratic Kappa Score: 0.7122705850278206\n",
      "Average R2 Score: 0.3761321377316155\n",
      "Average mse Score: 50.319188584186136\n"
     ]
    }
   ],
   "source": [
    "print(\"5 fold cross validation, linear svm C = 1.0, doc2vec 50, averager results\")\n",
    "print (\"Average Quadratic Kappa Score: {}\".format(statistics.mean(results)))\n",
    "print (\"Average R2 Score: {}\".format(statistics.mean(r2s)))\n",
    "print (\"Average mse Score: {}\".format(statistics.mean(mses)))"
   ]
  },
  {
   "cell_type": "code",
   "execution_count": null,
   "metadata": {},
   "outputs": [],
   "source": []
  }
 ],
 "metadata": {
  "kernelspec": {
   "display_name": "Python 3",
   "language": "python",
   "name": "python3"
  },
  "language_info": {
   "codemirror_mode": {
    "name": "ipython",
    "version": 3
   },
   "file_extension": ".py",
   "mimetype": "text/x-python",
   "name": "python",
   "nbconvert_exporter": "python",
   "pygments_lexer": "ipython3",
   "version": "3.8.3"
  }
 },
 "nbformat": 4,
 "nbformat_minor": 4
}
