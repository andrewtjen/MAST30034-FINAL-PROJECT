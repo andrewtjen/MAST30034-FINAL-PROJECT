{
 "cells": [
  {
   "cell_type": "markdown",
   "metadata": {},
   "source": [
    "# FINAL PROJECT CODE"
   ]
  },
  {
   "cell_type": "markdown",
   "metadata": {},
   "source": [
    "## Imports"
   ]
  },
  {
   "cell_type": "code",
   "execution_count": 2,
   "metadata": {},
   "outputs": [],
   "source": [
    "import pandas as pd\n",
    "import numpy as np\n",
    "import pickle\n",
    "import re\n",
    "import itertools\n",
    "import scipy\n",
    "import matplotlib.pyplot as plt\n",
    "import re\n",
    "from sklearn.feature_selection import SelectKBest, chi2\n",
    "from sklearn.feature_selection import SelectPercentile, SelectKBest, SelectFpr, chi2, mutual_info_classif\n",
    "from sklearn.model_selection import train_test_split\n",
    "\n"
   ]
  },
  {
   "cell_type": "markdown",
   "metadata": {},
   "source": [
    "## Read Data"
   ]
  },
  {
   "cell_type": "code",
   "execution_count": 3,
   "metadata": {},
   "outputs": [],
   "source": [
    "df_train = pd.read_csv('dataset/training_set_rel3.tsv', sep='\\t', encoding='ISO-8859-1')\n",
    "df_test = pd.read_csv('dataset/test_set.tsv', sep='\\t', encoding='ISO-8859-1')\n"
   ]
  },
  {
   "cell_type": "code",
   "execution_count": 12,
   "metadata": {
    "scrolled": true
   },
   "outputs": [],
   "source": [
    "df_test[\"weight\"] = [0.5 if x == 2 else 1 for x in df_test['essay_set']]\n"
   ]
  },
  {
   "cell_type": "code",
   "execution_count": 47,
   "metadata": {},
   "outputs": [
    {
     "data": {
      "text/plain": [
       "essay_id            int64\n",
       "essay_set           int64\n",
       "essay              object\n",
       "rater1_domain1      int64\n",
       "rater2_domain1      int64\n",
       "rater3_domain1    float64\n",
       "domain1_score       int64\n",
       "rater1_domain2    float64\n",
       "rater2_domain2    float64\n",
       "domain2_score     float64\n",
       "rater1_trait1     float64\n",
       "rater1_trait2     float64\n",
       "rater1_trait3     float64\n",
       "rater1_trait4     float64\n",
       "rater1_trait5     float64\n",
       "rater1_trait6     float64\n",
       "rater2_trait1     float64\n",
       "rater2_trait2     float64\n",
       "rater2_trait3     float64\n",
       "rater2_trait4     float64\n",
       "rater2_trait5     float64\n",
       "rater2_trait6     float64\n",
       "rater3_trait1     float64\n",
       "rater3_trait2     float64\n",
       "rater3_trait3     float64\n",
       "rater3_trait4     float64\n",
       "rater3_trait5     float64\n",
       "rater3_trait6     float64\n",
       "dtype: object"
      ]
     },
     "execution_count": 47,
     "metadata": {},
     "output_type": "execute_result"
    }
   ],
   "source": [
    "df_train.dtypes"
   ]
  },
  {
   "cell_type": "markdown",
   "metadata": {},
   "source": [
    "## Insights of the data"
   ]
  },
  {
   "cell_type": "markdown",
   "metadata": {},
   "source": [
    "Knowledge right now:\n",
    "- essay two has two domain scoring\n",
    "- Each essay set may have different scoring criteria (out of 5 or 10 or 50) ## this is a problem##\n",
    "- rater traits on essay set 7-8 (may need to check relevanncy)\n",
    "- Domain score is sum total of raters scores\n"
   ]
  },
  {
   "cell_type": "code",
   "execution_count": 5,
   "metadata": {
    "scrolled": true
   },
   "outputs": [
    {
     "data": {
      "text/plain": [
       "Text(0, 0.5, 'max score')"
      ]
     },
     "execution_count": 5,
     "metadata": {},
     "output_type": "execute_result"
    },
    {
     "data": {
      "image/png": "[encoded data removed]",
      "text/plain": [
       "<Figure size 720x720 with 1 Axes>"
      ]
     },
     "metadata": {
      "needs_background": "light"
     },
     "output_type": "display_data"
    }
   ],
   "source": [
    "fig,ax = plt.subplots(figsize = (10,10))\n",
    "maxScore = df_train.groupby([\"essay_set\"], as_index = False).agg(\"max\")[[\"essay_set\", \"domain1_score\"]]\n",
    "ax.bar(maxScore[\"essay_set\"], maxScore[\"domain1_score\"])\n",
    "ax.set_title(\"Max score for each essay set\")\n",
    "ax.set_xlabel(\"essay set\")\n",
    "ax.set_ylabel(\"max score\")"
   ]
  },
  {
   "cell_type": "markdown",
   "metadata": {},
   "source": [
    "Needs to normalize the data. Considers dividing the scores by the max value, or use logit link to make it under 0 to 1 for every data respective to each maximum."
   ]
  },
  {
   "cell_type": "code",
   "execution_count": 8,
   "metadata": {},
   "outputs": [],
   "source": [
    "def essaySetDistribution(df, essay_set):\n",
    "    temp =  df.loc[ df[\"essay_set\"] == essay_set].groupby([\"domain1_score\"], as_index = False).agg(\"count\")\n",
    "    plt.bar(temp[\"domain1_score\"], temp[\"essay_id\"])\n",
    "    plt.show()"
   ]
  },
  {
   "cell_type": "code",
   "execution_count": null,
   "metadata": {},
   "outputs": [],
   "source": []
  },
  {
   "cell_type": "markdown",
   "metadata": {},
   "source": [
    "Possible to implement bell curve"
   ]
  },
  {
   "cell_type": "code",
   "execution_count": 6,
   "metadata": {},
   "outputs": [
    {
     "ename": "SyntaxError",
     "evalue": "unexpected EOF while parsing (<ipython-input-6-8330cd84f9db>, line 7)",
     "output_type": "error",
     "traceback": [
      "\u001b[1;36m  File \u001b[1;32m\"<ipython-input-6-8330cd84f9db>\"\u001b[1;36m, line \u001b[1;32m7\u001b[0m\n\u001b[1;33m    #feature selection here or to see how relevant is the meta features\u001b[0m\n\u001b[1;37m                                                                       ^\u001b[0m\n\u001b[1;31mSyntaxError\u001b[0m\u001b[1;31m:\u001b[0m unexpected EOF while parsing\n"
     ]
    }
   ],
   "source": [
    "ESSAY_SET = [1,2,3,4,5,6,7,8]\n",
    "\n",
    "for sets in ESSAY_SET:\n",
    "    temp_df =   df_train.loc[ df_train[\"essay_set\"] == sets]\n",
    "    print(temp_df.head())\n",
    "    if(sets == 7 or sets == 8):\n",
    "        #feature selection here or to see how relevant is the meta features"
   ]
  },
  {
   "cell_type": "markdown",
   "metadata": {},
   "source": [
    "## Data Cleaning"
   ]
  },
  {
   "cell_type": "code",
   "execution_count": 58,
   "metadata": {},
   "outputs": [],
   "source": [
    "#very inefficient coding\n",
    "df_train = df_train.fillna(0)\n",
    "\n",
    "df_train[\"weight1\"] = [0.5 if x == 2 else 1 for x in df_train['essay_set']]\n",
    "df_train[\"weight2\"] = abs(1 - df_train[\"weight1\"]) \n",
    "df_train[\"total_score\"] = df_train[\"domain1_score\"]*df_train[\"weight1\"] + df_train[\"domain2_score\"]*df_train[\"weight2\"]\n",
    "\n",
    "final = []\n",
    "regex = re.compile('@(\\w+)', re.S)\n",
    "for i in range(0, len(df_train)):\n",
    "    word = df_train[\"essay\"][i]\n",
    "    temp = regex.sub(lambda m: re.sub(\"\\d\", \"\", m.group()), word)\n",
    "    final.append(temp)\n",
    "df_train[\"essay\"] = pd.Series(np.array(final))\n",
    "final_df = df_train[[\"essay_id\", \"essay_set\", \"essay\",\"rater1_domain1\" , \"rater2_domain1\"  , \"rater3_domain1\"  ,\"domain1_score\" ,    \"rater1_domain2\" ,   \"rater2_domain2\" ,   \"domain2_score\" ,  \"total_score\"]]\n",
    "final_df.to_csv(\"clean_ver-1.csv\")"
   ]
  },
  {
   "cell_type": "code",
   "execution_count": null,
   "metadata": {},
   "outputs": [],
   "source": []
  },
  {
   "cell_type": "code",
   "execution_count": null,
   "metadata": {},
   "outputs": [],
   "source": []
  },
  {
   "cell_type": "code",
   "execution_count": null,
   "metadata": {},
   "outputs": [],
   "source": []
  },
  {
   "cell_type": "code",
   "execution_count": null,
   "metadata": {},
   "outputs": [],
   "source": []
  },
  {
   "cell_type": "code",
   "execution_count": null,
   "metadata": {},
   "outputs": [],
   "source": []
  }
 ],
 "metadata": {
  "kernelspec": {
   "display_name": "Python 3",
   "language": "python",
   "name": "python3"
  },
  "language_info": {
   "codemirror_mode": {
    "name": "ipython",
    "version": 3
   },
   "file_extension": ".py",
   "mimetype": "text/x-python",
   "name": "python",
   "nbconvert_exporter": "python",
   "pygments_lexer": "ipython3",
   "version": "3.8.3"
  }
 },
 "nbformat": 4,
 "nbformat_minor": 4
}
